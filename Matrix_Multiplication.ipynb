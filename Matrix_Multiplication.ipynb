{
  "nbformat": 4,
  "nbformat_minor": 0,
  "metadata": {
    "colab": {
      "provenance": [],
      "collapsed_sections": [
        "Zv9yqupBlMB5",
        "sdjbBxLDushq",
        "v9msCsVRL2sq"
      ],
      "authorship_tag": "ABX9TyNuC/lMi+RkZnxP4XvGv6vf",
      "include_colab_link": true
    },
    "kernelspec": {
      "name": "python3",
      "display_name": "Python 3"
    },
    "language_info": {
      "name": "python"
    }
  },
  "cells": [
    {
      "cell_type": "markdown",
      "metadata": {
        "id": "view-in-github",
        "colab_type": "text"
      },
      "source": [
        "<a href=\"https://colab.research.google.com/github/svobodn1y/PP_Matrix/blob/main/Matrix_Multiplication.ipynb\" target=\"_parent\"><img src=\"https://colab.research.google.com/assets/colab-badge.svg\" alt=\"Open In Colab\"/></a>"
      ]
    },
    {
      "cell_type": "markdown",
      "source": [
        "# Алгоритм Штрассена\n",
        "\n"
      ],
      "metadata": {
        "id": "Zv9yqupBlMB5"
      }
    },
    {
      "cell_type": "markdown",
      "source": [
        "Наивный алгоритм $O(n^{3})$\n",
        "\n",
        "Алгоритм Штрассена $O(n^{2.81})$\n",
        "\n",
        "Алгоритм Винограда — Штрассена $O(n^{2.81})$\n",
        "\n",
        "Алгоритм Копперсмита - Винограда $O(n^{2.3727})$\n",
        "\n"
      ],
      "metadata": {
        "id": "B6isE1XKmWjE"
      }
    },
    {
      "cell_type": "markdown",
      "source": [
        "## Пример реализации алгоритма Штрассена\n"
      ],
      "metadata": {
        "id": "sdjbBxLDushq"
      }
    },
    {
      "cell_type": "code",
      "source": [
        "from itertools import product\n",
        "import numpy as np\n",
        "\n",
        "def split_to_2x2_blocks(matrix):\n",
        "\treturn list(map(\n",
        "\t\tlambda row: np.hsplit(row, 2),\n",
        "\t\tnp.vsplit(matrix, 2)\n",
        "\t))\n",
        "\n",
        "def strassen_mul_2x2(lb, rb):\n",
        "\td = strassen_mul(lb[0][0] + lb[1][1], rb[0][0] + rb[1][1])\n",
        "\td_1 = strassen_mul(lb[0][1] - lb[1][1], rb[1][0] + rb[1][1])\n",
        "\td_2 = strassen_mul(lb[1][0] - lb[0][0], rb[0][0] + rb[0][1])\n",
        "\n",
        "\tleft = strassen_mul(lb[1][1], rb[1][0] - rb[0][0])\n",
        "\tright = strassen_mul(lb[0][0], rb[0][1] - rb[1][1])\n",
        "\ttop = strassen_mul(lb[0][0] + lb[0][1], rb[1][1])\n",
        "\tbottom = strassen_mul(lb[1][0] + lb[1][1], rb[0][0])\n",
        "\n",
        "\treturn [[d + d_1 + left - top, right + top],\n",
        "\t\t\t[left + bottom, d + d_2 + right - bottom]]\n",
        "\n",
        "def trivial_mul(left, right):\n",
        "\theight, mid_size = left.shape\n",
        "\tmid_size, width = right.shape\n",
        "\n",
        "\tresult = np.zeros((height, width))\n",
        "\tfor row, col, mid in product(*map(range, [height, width, mid_size])):\n",
        "\t\tresult[row][col] += left[row][mid] * right[mid][col]\n",
        "\n",
        "\treturn result\n",
        "\n",
        "TRIVIAL_MULTIPLICATION_BOUND = 8\n",
        "\n",
        "def strassen_mul(left, right):\n",
        "  assert(left.shape == right.shape)\n",
        "  assert(left.shape[0] == left.shape[1])\n",
        "\n",
        "\n",
        "  if left.shape[0] <= TRIVIAL_MULTIPLICATION_BOUND:\n",
        "    return trivial_mul(left, right)\n",
        "\n",
        "  assert(left.shape[0] % 2 == 0)\n",
        "  return np.block(\n",
        "\t\tstrassen_mul_2x2(*map(split_to_2x2_blocks, [left, right]))\n",
        "\t)\n",
        "\n",
        "left = np.array([[1,2,3,4,5,6,7,8,9,10],\n",
        "                [1,2,3,4,5,6,7,8,9,10],\n",
        "                 [1,2,3,4,5,6,7,8,9,10],\n",
        "                  [1,2,3,4,5,6,7,8,9,10],\n",
        "                   [1,2,3,4,5,6,7,8,9,10],\n",
        "                    [1,2,3,4,5,6,7,8,9,10],\n",
        "                     [1,2,3,4,5,6,7,8,9,10],\n",
        "                      [1,2,3,4,5,6,7,8,9,10],\n",
        "                       [1,2,3,4,5,6,7,8,9,10],\n",
        "                        [1,2,3,4,5,6,7,8,9,10]])\n",
        "\n",
        "right = np.array([[11,12,13,14,15,16,17,18,19,20],\n",
        "                  [11,12,13,14,15,16,17,18,19,20],\n",
        "                  [11,12,13,14,15,16,17,18,19,20],\n",
        "                  [11,12,13,14,15,16,17,18,19,20],\n",
        "                  [11,12,13,14,15,16,17,18,19,20],\n",
        "                  [11,12,13,14,15,16,17,18,19,20],\n",
        "                  [11,12,13,14,15,16,17,18,19,20],\n",
        "                  [11,12,13,14,15,16,17,18,19,20],\n",
        "                  [11,12,13,14,15,16,17,18,19,20],\n",
        "                  [11,12,13,14,15,16,17,18,19,20]])\n",
        "\n",
        "strassen_mul(left, right)"
      ],
      "metadata": {
        "id": "3BprxkSVuwqT"
      },
      "execution_count": null,
      "outputs": []
    },
    {
      "cell_type": "markdown",
      "source": [
        "## Ссылки"
      ],
      "metadata": {
        "id": "GrDQaBHImDMu"
      }
    },
    {
      "cell_type": "markdown",
      "source": [
        "https://ru.wikipedia.org/wiki/%D0%90%D0%BB%D0%B3%D0%BE%D1%80%D0%B8%D1%82%D0%BC_%D0%A8%D1%82%D1%80%D0%B0%D1%81%D1%81%D0%B5%D0%BD%D0%B0\n",
        "\n",
        "https://www.youtube.com/watch?v=Wfuk6JszDuA"
      ],
      "metadata": {
        "id": "_Vh5-l3PmKgQ"
      }
    },
    {
      "cell_type": "markdown",
      "source": [
        "# Approximating matrix multiplication and low-rank approximation\n"
      ],
      "metadata": {
        "id": "R_ssvxVr5VKX"
      }
    },
    {
      "cell_type": "code",
      "source": [
        "import numpy as np\n",
        "import random\n",
        "import math\n",
        "\n",
        "np.random.seed(0)\n",
        "random.seed(0)"
      ],
      "metadata": {
        "id": "5807bhpQtG65"
      },
      "execution_count": null,
      "outputs": []
    },
    {
      "cell_type": "code",
      "source": [
        "m = 120\n",
        "n = 69\n",
        "p = 40\n",
        "\n",
        "A = np.random.rand(m,n) * 10\n",
        "\n",
        "B = np.random.rand(n,p) * 10\n"
      ],
      "metadata": {
        "id": "yowLNhtvtOHD"
      },
      "execution_count": null,
      "outputs": []
    },
    {
      "cell_type": "code",
      "source": [
        "print(A)\n",
        "print(B)"
      ],
      "metadata": {
        "id": "UUaLZ0WD3gjd"
      },
      "execution_count": null,
      "outputs": []
    },
    {
      "cell_type": "code",
      "source": [
        "c = 69\n",
        "\n",
        "C = np.zeros((m,c))\n",
        "R = np.zeros((c,p))\n",
        "\n",
        "for t in range(c):\n",
        "  i_t = random.randint(1,n) - 1\n",
        "\n",
        "  random_array = np.random.rand(n)\n",
        "  p_i = random_array / np.sum(random_array)\n",
        "\n",
        "  C[:, t] = A[:, i_t] / math.sqrt(c * random.choice(p_i))\n",
        "  R[t] = B[i_t] / math.sqrt(c * random.choice(p_i))\n"
      ],
      "metadata": {
        "id": "iBqHH-MFuJej"
      },
      "execution_count": null,
      "outputs": []
    },
    {
      "cell_type": "code",
      "source": [
        "print(C)\n",
        "print(R)"
      ],
      "metadata": {
        "id": "YH-Pi_QR3jhj"
      },
      "execution_count": null,
      "outputs": []
    },
    {
      "cell_type": "code",
      "source": [
        "AB = np.dot(A,B)"
      ],
      "metadata": {
        "id": "18k98vsnvhyf"
      },
      "execution_count": null,
      "outputs": []
    },
    {
      "cell_type": "code",
      "source": [
        "CR = np.dot(C,R)"
      ],
      "metadata": {
        "id": "3prz6j8tz_kU"
      },
      "execution_count": null,
      "outputs": []
    },
    {
      "cell_type": "code",
      "source": [
        "E = (np.linalg.norm(AB - CR))**2\n",
        "E"
      ],
      "metadata": {
        "colab": {
          "base_uri": "https://localhost:8080/"
        },
        "id": "z1KKrGLP2Zrt",
        "outputId": "20823047-a7dc-49bf-8a8d-256fad867b6d"
      },
      "execution_count": null,
      "outputs": [
        {
          "output_type": "execute_result",
          "data": {
            "text/plain": [
              "5675473291.210613"
            ]
          },
          "metadata": {},
          "execution_count": 98
        }
      ]
    },
    {
      "cell_type": "markdown",
      "source": [
        "##Ссылки"
      ],
      "metadata": {
        "id": "A_pkvVmndjtl"
      }
    },
    {
      "cell_type": "markdown",
      "source": [
        "https://cs.stanford.edu/people/mmahoney/cs369m/Lectures/lecture3.pdf"
      ],
      "metadata": {
        "id": "z4N2IHhudjtl"
      }
    },
    {
      "cell_type": "markdown",
      "source": [
        "#PCA\n"
      ],
      "metadata": {
        "id": "v9msCsVRL2sq"
      }
    },
    {
      "cell_type": "code",
      "source": [
        "import numpy as np\n",
        "\n",
        "def pca(X, num_components):\n",
        "    # Шаг 1: Центрируем данные\n",
        "    X_centered = X - np.mean(X, axis=0)\n",
        "\n",
        "    # Шаг 2: Вычисляем ковариационную матрицу\n",
        "    covariance_matrix = np.cov(X_centered, rowvar=False)\n",
        "\n",
        "    # Шаг 3: Находим собственные векторы и собственные значения ковариационной матрицы\n",
        "    eigenvalues, eigenvectors = np.linalg.eigh(covariance_matrix)\n",
        "\n",
        "    # Шаг 4: Сортируем собственные значения и векторы по убыванию собственных значений\n",
        "    sorted_indices = np.argsort(eigenvalues)[::-1]\n",
        "    sorted_eigenvalues = eigenvalues[sorted_indices]\n",
        "    sorted_eigenvectors = eigenvectors[:, sorted_indices]\n",
        "\n",
        "    # Шаг 5: Выбираем первые num_components собственных векторов\n",
        "    selected_eigenvectors = sorted_eigenvectors[:, :num_components]\n",
        "\n",
        "    # Шаг 6: Преобразуем данные\n",
        "    X_reduced = np.dot(X_centered, selected_eigenvectors)\n",
        "\n",
        "    return X_reduced, sorted_eigenvalues[:num_components]\n",
        "\n",
        "# Пример использования\n",
        "# Создадим случайный набор данных\n",
        "np.random.seed(0)\n",
        "X = np.random.rand(100, 5)  # 100 образцов, 5 признаков\n",
        "print(X)\n",
        "# Применим PCA для сокращения размерности до 2 компонент\n",
        "X_reduced, eigenvalues = pca(X, 2)\n",
        "\n",
        "print(\"Преобразованные данные:\\n\", X_reduced)\n",
        "print(\"Собственные значения:\\n\", eigenvalues)\n"
      ],
      "metadata": {
        "id": "qdcM9fbT5bNk"
      },
      "execution_count": null,
      "outputs": []
    }
  ]
}