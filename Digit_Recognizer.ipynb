{
  "metadata": {
    "kernelspec": {
      "language": "python",
      "display_name": "Python 3",
      "name": "python3"
    },
    "language_info": {
      "name": "python",
      "version": "3.10.14",
      "mimetype": "text/x-python",
      "codemirror_mode": {
        "name": "ipython",
        "version": 3
      },
      "pygments_lexer": "ipython3",
      "nbconvert_exporter": "python",
      "file_extension": ".py"
    },
    "kaggle": {
      "accelerator": "none",
      "dataSources": [
        {
          "sourceId": 3004,
          "databundleVersionId": 861823,
          "sourceType": "competition"
        }
      ],
      "dockerImageVersionId": 30786,
      "isInternetEnabled": true,
      "language": "python",
      "sourceType": "notebook",
      "isGpuEnabled": false
    },
    "colab": {
      "provenance": [],
      "collapsed_sections": [
        "6FQo9dEL8Z22",
        "vtH5G0-e8iL6",
        "oH7c5tbr8sEz",
        "mJ5JMKzc9BwT",
        "aRg7GHbl9IKO",
        "jx3qeh1k9_Gh"
      ],
      "include_colab_link": true
    }
  },
  "nbformat_minor": 0,
  "nbformat": 4,
  "cells": [
    {
      "cell_type": "markdown",
      "metadata": {
        "id": "view-in-github",
        "colab_type": "text"
      },
      "source": [
        "<a href=\"https://colab.research.google.com/github/svobodn1y/PP_Matrix/blob/main/Digit_Recognizer.ipynb\" target=\"_parent\"><img src=\"https://colab.research.google.com/assets/colab-badge.svg\" alt=\"Open In Colab\"/></a>"
      ]
    },
    {
      "cell_type": "markdown",
      "source": [
        "##Подключение и обработка данных"
      ],
      "metadata": {
        "id": "6FQo9dEL8Z22"
      }
    },
    {
      "cell_type": "code",
      "source": [
        "import numpy as np\n",
        "import pandas as pd\n",
        "from matplotlib import pyplot as plt\n",
        "import scipy"
      ],
      "metadata": {
        "_uuid": "8f2839f25d086af736a60e9eeb907d3b93b6e0e5",
        "_cell_guid": "b1076dfc-b9ad-4769-8c92-a6c4dae69d19",
        "execution": {
          "iopub.status.busy": "2024-11-08T19:32:20.775846Z",
          "iopub.execute_input": "2024-11-08T19:32:20.776340Z",
          "iopub.status.idle": "2024-11-08T19:32:20.784366Z",
          "shell.execute_reply.started": "2024-11-08T19:32:20.776298Z",
          "shell.execute_reply": "2024-11-08T19:32:20.782571Z"
        },
        "trusted": true,
        "id": "hkOTOmb_Seck"
      },
      "execution_count": null,
      "outputs": []
    },
    {
      "cell_type": "code",
      "source": [
        "data = pd.read_csv(\"train.csv\")"
      ],
      "metadata": {
        "execution": {
          "iopub.status.busy": "2024-11-08T19:40:41.525833Z",
          "iopub.execute_input": "2024-11-08T19:40:41.526363Z",
          "iopub.status.idle": "2024-11-08T19:40:44.895450Z",
          "shell.execute_reply.started": "2024-11-08T19:40:41.526298Z",
          "shell.execute_reply": "2024-11-08T19:40:44.894071Z"
        },
        "trusted": true,
        "id": "IXLsN0l2Secm"
      },
      "execution_count": null,
      "outputs": []
    },
    {
      "cell_type": "code",
      "source": [
        "data.head()"
      ],
      "metadata": {
        "execution": {
          "iopub.status.busy": "2024-11-08T19:41:10.460651Z",
          "iopub.execute_input": "2024-11-08T19:41:10.461151Z",
          "iopub.status.idle": "2024-11-08T19:41:10.484179Z",
          "shell.execute_reply.started": "2024-11-08T19:41:10.461070Z",
          "shell.execute_reply": "2024-11-08T19:41:10.482311Z"
        },
        "trusted": true,
        "id": "Mdu0IuKnSecm"
      },
      "execution_count": null,
      "outputs": []
    },
    {
      "cell_type": "code",
      "source": [
        "data = np.array(data)\n",
        "m, n = data.shape\n",
        "np.random.shuffle(data)\n",
        "\n",
        "data_dev = data[0:1000].T # тестовая выборка\n",
        "Y_dev = data_dev[0]\n",
        "X_dev = data_dev[1:n]\n",
        "X_dev = X_dev / 255.0\n",
        "\n",
        "data_train = data[1000:m].T # обучающая выборка\n",
        "Y_train = data_train[0]\n",
        "X_train = data_train[1:n]\n",
        "X_train = X_train / 255.0"
      ],
      "metadata": {
        "execution": {
          "iopub.status.busy": "2024-11-08T18:48:26.423420Z",
          "iopub.execute_input": "2024-11-08T18:48:26.423858Z",
          "iopub.status.idle": "2024-11-08T18:48:27.176054Z",
          "shell.execute_reply.started": "2024-11-08T18:48:26.423816Z",
          "shell.execute_reply": "2024-11-08T18:48:27.174659Z"
        },
        "trusted": true,
        "id": "lF9CuaJ7Secn"
      },
      "execution_count": null,
      "outputs": []
    },
    {
      "cell_type": "markdown",
      "source": [
        "##Функции для обучения"
      ],
      "metadata": {
        "id": "vtH5G0-e8iL6"
      }
    },
    {
      "cell_type": "code",
      "source": [
        "def init_params():\n",
        "    W1 = np.random.normal(size=(10, 784)) * np.sqrt(1./784)\n",
        "    b1 = np.random.normal(size=(10, 1)) * np.sqrt(1./10)\n",
        "    W2 = np.random.normal(size=(10, 10)) * np.sqrt(1./20)\n",
        "    b2 = np.random.normal(size=(10, 1)) * np.sqrt(1./784)\n",
        "    return W1, b1, W2, b2\n",
        "\n",
        "def ReLU(Z):\n",
        "  return np.maximum(0, Z)\n",
        "\n",
        "def softmax(Z):\n",
        "    Z -= np.max(Z, axis=0)\n",
        "    A = np.exp(Z) / np.sum(np.exp(Z), axis=0)\n",
        "    return A\n",
        "\n",
        "def forward_prop(W1, b1, W2, b2, X):\n",
        "    Z1 = W1.dot(X) + b1\n",
        "    A1 = ReLU(Z1)\n",
        "    Z2 = W2.dot(A1) + b2\n",
        "    A2 = softmax(Z2)\n",
        "    return Z1, A1, Z2, A2\n",
        "\n",
        "def ReLU_deriv(Z):\n",
        "    return Z > 0\n",
        "\n",
        "def one_hot(Y):\n",
        "    one_hot_Y = np.zeros((Y.size, Y.max() + 1))\n",
        "    one_hot_Y[np.arange(Y.size),Y] = 1\n",
        "    one_hot_Y = one_hot_Y.T\n",
        "    return one_hot_Y\n",
        "\n",
        "def backward_prop(Z1, A1, Z2, A2, W1, W2, X, Y):\n",
        "    m = X.shape[1]\n",
        "    one_hot_Y = one_hot(Y)\n",
        "    dZ2 = 2 * (A2 - one_hot_Y)\n",
        "    dW2 = 1 / m * dZ2.dot(A1.T)\n",
        "    db2 = 1 / m * np.sum(dZ2, axis=1, keepdims=True)\n",
        "    dZ1 = W2.T.dot(dZ2) * ReLU_deriv(Z1)\n",
        "    dW1 = 1 / m * dZ1.dot(X.T)\n",
        "    db1 = 1 / m * np.sum(dZ1, axis=1, keepdims=True)\n",
        "    return dW1, db1, dW2, db2\n",
        "\n",
        "def update_params(W1, b1, W2, b2, dW1, db1, dW2, db2, alpha):\n",
        "    W1 = W1 - alpha * dW1\n",
        "    b1 = b1 - alpha * db1\n",
        "    W2 = W2 - alpha * dW2\n",
        "    b2 = b2 - alpha *  db2\n",
        "    return W1, b1, W2, b2"
      ],
      "metadata": {
        "execution": {
          "iopub.status.busy": "2024-11-08T18:56:00.025049Z",
          "iopub.execute_input": "2024-11-08T18:56:00.025591Z",
          "iopub.status.idle": "2024-11-08T18:56:00.036481Z",
          "shell.execute_reply.started": "2024-11-08T18:56:00.025547Z",
          "shell.execute_reply": "2024-11-08T18:56:00.034910Z"
        },
        "trusted": true,
        "id": "WaphsgtSSeco"
      },
      "execution_count": null,
      "outputs": []
    },
    {
      "cell_type": "markdown",
      "source": [
        "##Функции запуска и проверок"
      ],
      "metadata": {
        "id": "oH7c5tbr8sEz"
      }
    },
    {
      "cell_type": "code",
      "source": [
        "def get_predictions(A2):\n",
        "    return np.argmax(A2, 0)\n",
        "\n",
        "def get_accuracy(predictions, Y):\n",
        "    return np.sum(predictions == Y) / Y.size\n",
        "\n",
        "def gradient_descent(X, Y, alpha, iterations):\n",
        "    W1, b1, W2, b2 = init_params()\n",
        "    for i in range(iterations):\n",
        "        Z1, A1, Z2, A2 = forward_prop(W1, b1, W2, b2, X)\n",
        "        dW1, db1, dW2, db2 = backward_prop(Z1, A1, Z2, A2, W1, W2, X, Y)\n",
        "        W1, b1, W2, b2 = update_params(W1, b1, W2, b2, dW1, db1, dW2, db2, alpha)\n",
        "        if i % 10 == 0:\n",
        "            print(\"Iteration: \", i)\n",
        "            predictions = get_predictions(A2)\n",
        "            print(get_accuracy(predictions, Y))\n",
        "    return W1, b1, W2, b2\n",
        "\n",
        "def make_predictions(X, W1, b1, W2, b2):\n",
        "    _, _, _, A2 = forward_prop(W1, b1, W2, b2, X)\n",
        "    predictions = get_predictions(A2)\n",
        "    return predictions\n",
        "\n",
        "def test_prediction(index, W1, b1, W2, b2):\n",
        "    current_image = X_train[:, index, None]\n",
        "    prediction = make_predictions(X_train[:, index, None], W1, b1, W2, b2)\n",
        "    label = Y_train[index]\n",
        "    print(\"Prediction: \", prediction)\n",
        "    print(\"Label: \", label)\n",
        "\n",
        "    current_image = current_image.reshape((28, 28)) * 255\n",
        "    plt.gray()\n",
        "    plt.imshow(current_image, interpolation='nearest')\n",
        "    plt.show()"
      ],
      "metadata": {
        "id": "DTYXBjFzSecp"
      },
      "execution_count": null,
      "outputs": []
    },
    {
      "cell_type": "markdown",
      "source": [
        "##Обучение модели на _train"
      ],
      "metadata": {
        "id": "mJ5JMKzc9BwT"
      }
    },
    {
      "cell_type": "code",
      "source": [
        "W1, b1, W2, b2 = gradient_descent(X_train, Y_train, 0.09, 500)"
      ],
      "metadata": {
        "id": "AF9u91PhSecp",
        "colab": {
          "base_uri": "https://localhost:8080/"
        },
        "outputId": "c33b0967-3776-41e3-d465-ce718ef21ae7"
      },
      "execution_count": null,
      "outputs": [
        {
          "output_type": "stream",
          "name": "stdout",
          "text": [
            "Iteration:  0\n",
            "0.11202439024390244\n",
            "Iteration:  10\n",
            "0.4949512195121951\n",
            "Iteration:  20\n",
            "0.6245365853658537\n",
            "Iteration:  30\n",
            "0.7086097560975609\n",
            "Iteration:  40\n",
            "0.7670731707317073\n",
            "Iteration:  50\n",
            "0.7974146341463415\n",
            "Iteration:  60\n",
            "0.8163170731707317\n",
            "Iteration:  70\n",
            "0.8312439024390244\n",
            "Iteration:  80\n",
            "0.8430975609756097\n",
            "Iteration:  90\n",
            "0.8526341463414634\n",
            "Iteration:  100\n",
            "0.8604634146341463\n",
            "Iteration:  110\n",
            "0.8664634146341463\n",
            "Iteration:  120\n",
            "0.8725121951219512\n",
            "Iteration:  130\n",
            "0.8772439024390244\n",
            "Iteration:  140\n",
            "0.8814634146341463\n",
            "Iteration:  150\n",
            "0.8839512195121951\n",
            "Iteration:  160\n",
            "0.8869024390243903\n",
            "Iteration:  170\n",
            "0.8893658536585366\n",
            "Iteration:  180\n",
            "0.8914390243902439\n",
            "Iteration:  190\n",
            "0.8929756097560976\n",
            "Iteration:  200\n",
            "0.8949268292682927\n",
            "Iteration:  210\n",
            "0.8960731707317073\n",
            "Iteration:  220\n",
            "0.897219512195122\n",
            "Iteration:  230\n",
            "0.8985365853658537\n",
            "Iteration:  240\n",
            "0.8995853658536586\n",
            "Iteration:  250\n",
            "0.9007317073170732\n",
            "Iteration:  260\n",
            "0.9017317073170732\n",
            "Iteration:  270\n",
            "0.9027560975609756\n",
            "Iteration:  280\n",
            "0.9035121951219512\n",
            "Iteration:  290\n",
            "0.9044634146341464\n",
            "Iteration:  300\n",
            "0.9053414634146342\n",
            "Iteration:  310\n",
            "0.9059512195121951\n",
            "Iteration:  320\n",
            "0.906390243902439\n",
            "Iteration:  330\n",
            "0.9072439024390244\n",
            "Iteration:  340\n",
            "0.9077560975609756\n",
            "Iteration:  350\n",
            "0.908609756097561\n",
            "Iteration:  360\n",
            "0.9092682926829269\n",
            "Iteration:  370\n",
            "0.9098536585365854\n",
            "Iteration:  380\n",
            "0.9105365853658537\n",
            "Iteration:  390\n",
            "0.9114634146341464\n",
            "Iteration:  400\n",
            "0.9120243902439025\n",
            "Iteration:  410\n",
            "0.9126829268292683\n",
            "Iteration:  420\n",
            "0.9129268292682927\n",
            "Iteration:  430\n",
            "0.9133170731707317\n",
            "Iteration:  440\n",
            "0.9135609756097561\n",
            "Iteration:  450\n",
            "0.9141463414634147\n",
            "Iteration:  460\n",
            "0.9146341463414634\n",
            "Iteration:  470\n",
            "0.9149756097560976\n",
            "Iteration:  480\n",
            "0.9154146341463415\n",
            "Iteration:  490\n",
            "0.9159512195121952\n"
          ]
        }
      ]
    },
    {
      "cell_type": "markdown",
      "source": [
        "##Проверка модели на _dev"
      ],
      "metadata": {
        "id": "aRg7GHbl9IKO"
      }
    },
    {
      "cell_type": "code",
      "source": [
        "dev_predictions = make_predictions(X_dev, W1, b1, W2, b2)\n",
        "get_accuracy(dev_predictions, Y_dev)"
      ],
      "metadata": {
        "colab": {
          "base_uri": "https://localhost:8080/"
        },
        "id": "YHVvA9m6laE5",
        "outputId": "801ed21f-b7bb-4669-ff24-f4cb91eb942d"
      },
      "execution_count": null,
      "outputs": [
        {
          "output_type": "execute_result",
          "data": {
            "text/plain": [
              "0.916"
            ]
          },
          "metadata": {},
          "execution_count": 137
        }
      ]
    },
    {
      "cell_type": "code",
      "source": [
        "n = 10\n",
        "index_list = np.random.randint(0,40000, n)\n",
        "for i in index_list:\n",
        "  test_prediction(i, W1, b1, W2, b2)"
      ],
      "metadata": {
        "id": "ofmUqHtDIg1f"
      },
      "execution_count": null,
      "outputs": []
    },
    {
      "cell_type": "markdown",
      "source": [
        "##Финальное обучение на всех данных и предикт на _test"
      ],
      "metadata": {
        "id": "jx3qeh1k9_Gh"
      }
    },
    {
      "cell_type": "code",
      "source": [
        "data_TRAIN = pd.read_csv(\"train.csv\")\n",
        "data_TRAIN = np.array(data_TRAIN)\n",
        "m, n = data.shape\n",
        "\n",
        "np.random.shuffle(data_TRAIN)\n",
        "data_TRAIN = data_TRAIN.T\n",
        "\n",
        "Y = data_TRAIN[0]\n",
        "X = data_TRAIN[1:n]\n",
        "X = X / 255.0\n",
        "\n",
        "def gradient_descent_without_logs(X, Y, alpha, iterations):\n",
        "    W1, b1, W2, b2 = init_params()\n",
        "    for i in range(iterations):\n",
        "        Z1, A1, Z2, A2 = forward_prop(W1, b1, W2, b2, X)\n",
        "        dW1, db1, dW2, db2 = backward_prop(Z1, A1, Z2, A2, W1, W2, X, Y)\n",
        "        W1, b1, W2, b2 = update_params(W1, b1, W2, b2, dW1, db1, dW2, db2, alpha)\n",
        "    return W1, b1, W2, b2\n",
        "\n",
        "W1, b1, W2, b2 = gradient_descent_without_logs(X, Y, 0.09, 500)"
      ],
      "metadata": {
        "id": "B7hvDdprJgtH"
      },
      "execution_count": null,
      "outputs": []
    },
    {
      "cell_type": "code",
      "source": [
        "data_test = pd.read_csv(\"test.csv\")\n",
        "data_test = np.array(data_test).T\n",
        "\n",
        "dev_predictions = make_predictions(data_test, W1, b1, W2, b2)\n",
        "\n",
        "dev_predictions\n"
      ],
      "metadata": {
        "id": "stIqohMp-ET5"
      },
      "execution_count": null,
      "outputs": []
    },
    {
      "cell_type": "code",
      "source": [
        "df = pd.DataFrame({\n",
        "    'ImageId': np.arange(1, len(dev_predictions) + 1),\n",
        "    'Label': dev_predictions})\n",
        "\n",
        "df.to_csv(\"out.csv\", header=True, index=False)\n",
        "\n",
        "df"
      ],
      "metadata": {
        "id": "06MYuP_WEb5a"
      },
      "execution_count": null,
      "outputs": []
    }
  ]
}